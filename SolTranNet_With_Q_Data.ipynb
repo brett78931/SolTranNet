{
 "cells": [
  {
   "cell_type": "markdown",
   "id": "6e2cab21",
   "metadata": {},
   "source": [
    "# Prepare the Training and Testing Data Sets\n",
    "\n",
    "First, we must load the data sets using the load_data_from_df function from transformer.py and then we will construct the data loader using the construct_loader, also from transformer.py. This notebook assumes you are running the model from the main section of this github repository, however we do set the current working directory to the soltrannet directory."
   ]
  },
  {
   "cell_type": "code",
   "execution_count": 1,
   "id": "9b9dab01",
   "metadata": {},
   "outputs": [],
   "source": [
    "import os\n",
    "import pandas as pd\n",
    "import torch\n",
    "import numpy as np\n",
    "import time\n",
    "\n",
    "os.chdir('soltrannet')\n",
    "\n",
    "from soltrannet.quantum_data_utils import load_data_from_df, construct_loader"
   ]
  },
  {
   "cell_type": "markdown",
   "id": "6e59e673",
   "metadata": {},
   "source": [
    "Setting the specified random seed"
   ]
  },
  {
   "cell_type": "code",
   "execution_count": 2,
   "id": "88f06d1a",
   "metadata": {},
   "outputs": [],
   "source": [
    "trainfile = 'Training_Data/train_subset1_1000.csv' \n",
    "testfile = 'Testing_Data/test_subset1_1000.csv' \n",
    "\n",
    "torch.manual_seed(420)\n",
    "np.random.seed(420)"
   ]
  },
  {
   "cell_type": "markdown",
   "id": "53175896",
   "metadata": {},
   "source": [
    "Loading the Training & Testing Data"
   ]
  },
  {
   "cell_type": "code",
   "execution_count": 3,
   "id": "75872b9e",
   "metadata": {},
   "outputs": [
    {
     "name": "stderr",
     "output_type": "stream",
     "text": [
      "C:\\Users\\Brett\\brett.ondich\\SolTranNet_test\\soltrannet\\quantum_data_utils.py:122: UserWarning: loadtxt: Empty input file: \"<_io.TextIOWrapper name='Q_Data/B-1384.csv' mode='r' encoding='cp1252'>\"\n",
      "  qarray = np.loadtxt(q_data, delimiter=',', skiprows=1, usecols=(4,5,6,7))\n",
      "WARNING:root:the SMILES (CC(C)(C)CCO) can not be converted to a graph.\n",
      "REASON: all the input arrays must have same number of dimensions, but the array at index 0 has 2 dimension(s) and the array at index 1 has 1 dimension(s)\n",
      "WARNING:root:the SMILES (CC(CCC(C)O[N+](=O)O)O[N+](=O)O) can not be converted to a graph.\n",
      "REASON: all the input array dimensions for the concatenation axis must match exactly, but along dimension 0, the array at index 0 has size 14 and the array at index 1 has size 17\n",
      "C:\\Users\\Brett\\brett.ondich\\SolTranNet_test\\soltrannet\\quantum_data_utils.py:122: UserWarning: loadtxt: Empty input file: \"<_io.TextIOWrapper name='Q_Data/B-1260.csv' mode='r' encoding='cp1252'>\"\n",
      "  qarray = np.loadtxt(q_data, delimiter=',', skiprows=1, usecols=(4,5,6,7))\n",
      "WARNING:root:the SMILES (I\\C=C/I) can not be converted to a graph.\n",
      "REASON: all the input arrays must have same number of dimensions, but the array at index 0 has 2 dimension(s) and the array at index 1 has 1 dimension(s)\n",
      "WARNING:root:the SMILES (CCCC(CO[N+](=O)O)O[N+](=O)O) can not be converted to a graph.\n",
      "REASON: all the input array dimensions for the concatenation axis must match exactly, but along dimension 0, the array at index 0 has size 13 and the array at index 1 has size 5\n",
      "WARNING:root:the SMILES (C) can not be converted to a graph.\n",
      "REASON: all the input arrays must have same number of dimensions, but the array at index 0 has 2 dimension(s) and the array at index 1 has 1 dimension(s)\n"
     ]
    }
   ],
   "source": [
    "batch_size = 8\n",
    "\n",
    "trainX, trainy = load_data_from_df(trainfile, add_dummy_node=True, one_hot_formal_charge=True)\n",
    "data_loader = construct_loader(trainX, trainy, batch_size)\n",
    "\n",
    "testX, testy = load_data_from_df(testfile, add_dummy_node=True, one_hot_formal_charge=True)\n",
    "testdata_loader = construct_loader(testX, testy, batch_size)"
   ]
  },
  {
   "cell_type": "markdown",
   "id": "ffeec5ce",
   "metadata": {},
   "source": [
    "# Prepare Model\n",
    "\n",
    "The model parameters used below are the default values used for the SolTranNet architecture."
   ]
  },
  {
   "cell_type": "code",
   "execution_count": 4,
   "id": "cfeff7d1",
   "metadata": {},
   "outputs": [],
   "source": [
    "from transformer import make_model"
   ]
  },
  {
   "cell_type": "code",
   "execution_count": 5,
   "id": "6941f7ea",
   "metadata": {},
   "outputs": [],
   "source": [
    "d_atom = trainX[0][0].shape[1] # It depends on the used featurization. To match \n",
    "                                #SolTranNet architecture d_atom should equal 28\n",
    "\n",
    "model_params = {\n",
    "    'd_atom': d_atom,\n",
    "    'd_model': 8,\n",
    "    'N': 8,\n",
    "    'h': 2,\n",
    "    'N_dense': 1,\n",
    "    'lambda_attention': 0.33, \n",
    "    'leaky_relu_slope': 0.0, \n",
    "    'dense_output_nonlinearity': 'relu', \n",
    "    'dropout': 0.1,\n",
    "    'aggregation_type': 'mean'\n",
    "}\n"
   ]
  },
  {
   "cell_type": "code",
   "execution_count": 6,
   "id": "b61a736f",
   "metadata": {},
   "outputs": [],
   "source": [
    "model = make_model(**model_params)"
   ]
  },
  {
   "cell_type": "code",
   "execution_count": 7,
   "id": "ac51399f",
   "metadata": {},
   "outputs": [
    {
     "data": {
      "text/plain": [
       "GraphTransformer(\n",
       "  (encoder): Encoder(\n",
       "    (layers): ModuleList(\n",
       "      (0): EncoderLayer(\n",
       "        (self_attn): MultiHeadedAttention(\n",
       "          (linears): ModuleList(\n",
       "            (0): Linear(in_features=8, out_features=8, bias=True)\n",
       "            (1): Linear(in_features=8, out_features=8, bias=True)\n",
       "            (2): Linear(in_features=8, out_features=8, bias=True)\n",
       "            (3): Linear(in_features=8, out_features=8, bias=True)\n",
       "          )\n",
       "          (dropout): Dropout(p=0.1, inplace=False)\n",
       "        )\n",
       "        (feed_forward): PositionwiseFeedForward(\n",
       "          (linears): ModuleList(\n",
       "            (0): Linear(in_features=8, out_features=8, bias=True)\n",
       "          )\n",
       "          (dropout): ModuleList(\n",
       "            (0): Dropout(p=0.1, inplace=False)\n",
       "          )\n",
       "        )\n",
       "        (sublayer): ModuleList(\n",
       "          (0): SublayerConnection(\n",
       "            (norm): LayerNorm()\n",
       "            (dropout): Dropout(p=0.1, inplace=False)\n",
       "          )\n",
       "          (1): SublayerConnection(\n",
       "            (norm): LayerNorm()\n",
       "            (dropout): Dropout(p=0.1, inplace=False)\n",
       "          )\n",
       "        )\n",
       "      )\n",
       "      (1): EncoderLayer(\n",
       "        (self_attn): MultiHeadedAttention(\n",
       "          (linears): ModuleList(\n",
       "            (0): Linear(in_features=8, out_features=8, bias=True)\n",
       "            (1): Linear(in_features=8, out_features=8, bias=True)\n",
       "            (2): Linear(in_features=8, out_features=8, bias=True)\n",
       "            (3): Linear(in_features=8, out_features=8, bias=True)\n",
       "          )\n",
       "          (dropout): Dropout(p=0.1, inplace=False)\n",
       "        )\n",
       "        (feed_forward): PositionwiseFeedForward(\n",
       "          (linears): ModuleList(\n",
       "            (0): Linear(in_features=8, out_features=8, bias=True)\n",
       "          )\n",
       "          (dropout): ModuleList(\n",
       "            (0): Dropout(p=0.1, inplace=False)\n",
       "          )\n",
       "        )\n",
       "        (sublayer): ModuleList(\n",
       "          (0): SublayerConnection(\n",
       "            (norm): LayerNorm()\n",
       "            (dropout): Dropout(p=0.1, inplace=False)\n",
       "          )\n",
       "          (1): SublayerConnection(\n",
       "            (norm): LayerNorm()\n",
       "            (dropout): Dropout(p=0.1, inplace=False)\n",
       "          )\n",
       "        )\n",
       "      )\n",
       "      (2): EncoderLayer(\n",
       "        (self_attn): MultiHeadedAttention(\n",
       "          (linears): ModuleList(\n",
       "            (0): Linear(in_features=8, out_features=8, bias=True)\n",
       "            (1): Linear(in_features=8, out_features=8, bias=True)\n",
       "            (2): Linear(in_features=8, out_features=8, bias=True)\n",
       "            (3): Linear(in_features=8, out_features=8, bias=True)\n",
       "          )\n",
       "          (dropout): Dropout(p=0.1, inplace=False)\n",
       "        )\n",
       "        (feed_forward): PositionwiseFeedForward(\n",
       "          (linears): ModuleList(\n",
       "            (0): Linear(in_features=8, out_features=8, bias=True)\n",
       "          )\n",
       "          (dropout): ModuleList(\n",
       "            (0): Dropout(p=0.1, inplace=False)\n",
       "          )\n",
       "        )\n",
       "        (sublayer): ModuleList(\n",
       "          (0): SublayerConnection(\n",
       "            (norm): LayerNorm()\n",
       "            (dropout): Dropout(p=0.1, inplace=False)\n",
       "          )\n",
       "          (1): SublayerConnection(\n",
       "            (norm): LayerNorm()\n",
       "            (dropout): Dropout(p=0.1, inplace=False)\n",
       "          )\n",
       "        )\n",
       "      )\n",
       "      (3): EncoderLayer(\n",
       "        (self_attn): MultiHeadedAttention(\n",
       "          (linears): ModuleList(\n",
       "            (0): Linear(in_features=8, out_features=8, bias=True)\n",
       "            (1): Linear(in_features=8, out_features=8, bias=True)\n",
       "            (2): Linear(in_features=8, out_features=8, bias=True)\n",
       "            (3): Linear(in_features=8, out_features=8, bias=True)\n",
       "          )\n",
       "          (dropout): Dropout(p=0.1, inplace=False)\n",
       "        )\n",
       "        (feed_forward): PositionwiseFeedForward(\n",
       "          (linears): ModuleList(\n",
       "            (0): Linear(in_features=8, out_features=8, bias=True)\n",
       "          )\n",
       "          (dropout): ModuleList(\n",
       "            (0): Dropout(p=0.1, inplace=False)\n",
       "          )\n",
       "        )\n",
       "        (sublayer): ModuleList(\n",
       "          (0): SublayerConnection(\n",
       "            (norm): LayerNorm()\n",
       "            (dropout): Dropout(p=0.1, inplace=False)\n",
       "          )\n",
       "          (1): SublayerConnection(\n",
       "            (norm): LayerNorm()\n",
       "            (dropout): Dropout(p=0.1, inplace=False)\n",
       "          )\n",
       "        )\n",
       "      )\n",
       "      (4): EncoderLayer(\n",
       "        (self_attn): MultiHeadedAttention(\n",
       "          (linears): ModuleList(\n",
       "            (0): Linear(in_features=8, out_features=8, bias=True)\n",
       "            (1): Linear(in_features=8, out_features=8, bias=True)\n",
       "            (2): Linear(in_features=8, out_features=8, bias=True)\n",
       "            (3): Linear(in_features=8, out_features=8, bias=True)\n",
       "          )\n",
       "          (dropout): Dropout(p=0.1, inplace=False)\n",
       "        )\n",
       "        (feed_forward): PositionwiseFeedForward(\n",
       "          (linears): ModuleList(\n",
       "            (0): Linear(in_features=8, out_features=8, bias=True)\n",
       "          )\n",
       "          (dropout): ModuleList(\n",
       "            (0): Dropout(p=0.1, inplace=False)\n",
       "          )\n",
       "        )\n",
       "        (sublayer): ModuleList(\n",
       "          (0): SublayerConnection(\n",
       "            (norm): LayerNorm()\n",
       "            (dropout): Dropout(p=0.1, inplace=False)\n",
       "          )\n",
       "          (1): SublayerConnection(\n",
       "            (norm): LayerNorm()\n",
       "            (dropout): Dropout(p=0.1, inplace=False)\n",
       "          )\n",
       "        )\n",
       "      )\n",
       "      (5): EncoderLayer(\n",
       "        (self_attn): MultiHeadedAttention(\n",
       "          (linears): ModuleList(\n",
       "            (0): Linear(in_features=8, out_features=8, bias=True)\n",
       "            (1): Linear(in_features=8, out_features=8, bias=True)\n",
       "            (2): Linear(in_features=8, out_features=8, bias=True)\n",
       "            (3): Linear(in_features=8, out_features=8, bias=True)\n",
       "          )\n",
       "          (dropout): Dropout(p=0.1, inplace=False)\n",
       "        )\n",
       "        (feed_forward): PositionwiseFeedForward(\n",
       "          (linears): ModuleList(\n",
       "            (0): Linear(in_features=8, out_features=8, bias=True)\n",
       "          )\n",
       "          (dropout): ModuleList(\n",
       "            (0): Dropout(p=0.1, inplace=False)\n",
       "          )\n",
       "        )\n",
       "        (sublayer): ModuleList(\n",
       "          (0): SublayerConnection(\n",
       "            (norm): LayerNorm()\n",
       "            (dropout): Dropout(p=0.1, inplace=False)\n",
       "          )\n",
       "          (1): SublayerConnection(\n",
       "            (norm): LayerNorm()\n",
       "            (dropout): Dropout(p=0.1, inplace=False)\n",
       "          )\n",
       "        )\n",
       "      )\n",
       "      (6): EncoderLayer(\n",
       "        (self_attn): MultiHeadedAttention(\n",
       "          (linears): ModuleList(\n",
       "            (0): Linear(in_features=8, out_features=8, bias=True)\n",
       "            (1): Linear(in_features=8, out_features=8, bias=True)\n",
       "            (2): Linear(in_features=8, out_features=8, bias=True)\n",
       "            (3): Linear(in_features=8, out_features=8, bias=True)\n",
       "          )\n",
       "          (dropout): Dropout(p=0.1, inplace=False)\n",
       "        )\n",
       "        (feed_forward): PositionwiseFeedForward(\n",
       "          (linears): ModuleList(\n",
       "            (0): Linear(in_features=8, out_features=8, bias=True)\n",
       "          )\n",
       "          (dropout): ModuleList(\n",
       "            (0): Dropout(p=0.1, inplace=False)\n",
       "          )\n",
       "        )\n",
       "        (sublayer): ModuleList(\n",
       "          (0): SublayerConnection(\n",
       "            (norm): LayerNorm()\n",
       "            (dropout): Dropout(p=0.1, inplace=False)\n",
       "          )\n",
       "          (1): SublayerConnection(\n",
       "            (norm): LayerNorm()\n",
       "            (dropout): Dropout(p=0.1, inplace=False)\n",
       "          )\n",
       "        )\n",
       "      )\n",
       "      (7): EncoderLayer(\n",
       "        (self_attn): MultiHeadedAttention(\n",
       "          (linears): ModuleList(\n",
       "            (0): Linear(in_features=8, out_features=8, bias=True)\n",
       "            (1): Linear(in_features=8, out_features=8, bias=True)\n",
       "            (2): Linear(in_features=8, out_features=8, bias=True)\n",
       "            (3): Linear(in_features=8, out_features=8, bias=True)\n",
       "          )\n",
       "          (dropout): Dropout(p=0.1, inplace=False)\n",
       "        )\n",
       "        (feed_forward): PositionwiseFeedForward(\n",
       "          (linears): ModuleList(\n",
       "            (0): Linear(in_features=8, out_features=8, bias=True)\n",
       "          )\n",
       "          (dropout): ModuleList(\n",
       "            (0): Dropout(p=0.1, inplace=False)\n",
       "          )\n",
       "        )\n",
       "        (sublayer): ModuleList(\n",
       "          (0): SublayerConnection(\n",
       "            (norm): LayerNorm()\n",
       "            (dropout): Dropout(p=0.1, inplace=False)\n",
       "          )\n",
       "          (1): SublayerConnection(\n",
       "            (norm): LayerNorm()\n",
       "            (dropout): Dropout(p=0.1, inplace=False)\n",
       "          )\n",
       "        )\n",
       "      )\n",
       "    )\n",
       "    (norm): LayerNorm()\n",
       "  )\n",
       "  (src_embed): Embeddings(\n",
       "    (lut): Linear(in_features=32, out_features=8, bias=True)\n",
       "    (dropout): Dropout(p=0.1, inplace=False)\n",
       "  )\n",
       "  (generator): Generator(\n",
       "    (proj): Linear(in_features=8, out_features=1, bias=True)\n",
       "  )\n",
       ")"
      ]
     },
     "execution_count": 7,
     "metadata": {},
     "output_type": "execute_result"
    }
   ],
   "source": [
    "model.train()"
   ]
  },
  {
   "cell_type": "code",
   "execution_count": 8,
   "id": "460f0f98",
   "metadata": {},
   "outputs": [],
   "source": [
    "#Setting up the loss function\n",
    "\n",
    "criterion = torch.nn.MSELoss(reduction='mean')"
   ]
  },
  {
   "cell_type": "code",
   "execution_count": 9,
   "id": "90d86f34",
   "metadata": {},
   "outputs": [],
   "source": [
    "#Selecting Optimizer\n",
    "\n",
    "optimizer=torch.optim.SGD(model.parameters(),lr=1e-4,momentum=0.9,weight_decay=0)"
   ]
  },
  {
   "cell_type": "markdown",
   "id": "ffa06614",
   "metadata": {},
   "source": [
    "# Run Training/Evaluation Loop"
   ]
  },
  {
   "cell_type": "code",
   "execution_count": 10,
   "id": "08dcbac3",
   "metadata": {
    "scrolled": false
   },
   "outputs": [
    {
     "name": "stderr",
     "output_type": "stream",
     "text": [
      "C:\\Users\\Brett\\brett.ondich\\SolTranNet_test\\soltrannet\\quantum_data_utils.py:279: UserWarning: Creating a tensor from a list of numpy.ndarrays is extremely slow. Please consider converting the list to a single numpy.ndarray with numpy.array() before converting to a tensor. (Triggered internally at  C:\\cb\\pytorch_1000000000000\\work\\torch\\csrc\\utils\\tensor_new.cpp:210.)\n",
      "  return [FloatTensor(features) for features in (adjacency_list, features_list, labels)]\n"
     ]
    },
    {
     "name": "stdout",
     "output_type": "stream",
     "text": [
      "----------------------------------\n",
      "Epoch: 0\n",
      "Training RMSE: 3.4380740847852382\n",
      "Training R2: 0.00046407734168221423\n",
      "----------------------------------\n",
      "Epoch: 1\n",
      "Training RMSE: 2.927300804068996\n",
      "Training R2: 0.005871059777063671\n",
      "----------------------------------\n",
      "Epoch: 2\n",
      "Training RMSE: 2.6367653767142016\n",
      "Training R2: 0.013404795636915368\n",
      "----------------------------------\n",
      "Epoch: 3\n",
      "Training RMSE: 2.4779018932467705\n",
      "Training R2: 0.017602850108591327\n",
      "----------------------------------\n",
      "Epoch: 4\n",
      "Training RMSE: 2.400205816753407\n",
      "Training R2: 0.0772052521341173\n",
      "----------------------------------\n",
      "Epoch: 5\n",
      "Training RMSE: 2.3768144625673098\n",
      "Training R2: 0.08806606308210595\n",
      "----------------------------------\n",
      "Epoch: 6\n",
      "Training RMSE: 2.366855199935978\n",
      "Training R2: 0.1137411617480566\n",
      "----------------------------------\n",
      "Epoch: 7\n",
      "Training RMSE: 2.360941814635478\n",
      "Training R2: 0.10431115445305784\n",
      "----------------------------------\n",
      "Epoch: 8\n",
      "Training RMSE: 2.3519494134675156\n",
      "Training R2: 0.13089715051484302\n",
      "----------------------------------\n",
      "Epoch: 9\n",
      "Training RMSE: 2.3457503195722404\n",
      "Training R2: 0.1384501496237309\n"
     ]
    }
   ],
   "source": [
    "iteration = 0\n",
    "for epoch in range(10):\n",
    "    epoch_preds=np.array([])\n",
    "    epoch_gold=np.array([])\n",
    "    for batch in data_loader:\n",
    "        iteration+=1\n",
    "        optimizer.zero_grad()\n",
    "        adjacency_matrix, node_features, y = batch\n",
    "        batch_mask = torch.sum(torch.abs(node_features), dim=-1) !=0\n",
    "        y_pred = model(node_features, batch_mask, adjacency_matrix, None)\n",
    "        \n",
    "        #accumulate the epoch training datas\n",
    "        epoch_gold=np.append(epoch_gold,y.tolist())\n",
    "        epoch_preds=np.append(epoch_preds,y_pred.tolist())\n",
    "        \n",
    "        loss=criterion(y_pred,y)\n",
    "        \n",
    "        loss.backward()\n",
    "        \n",
    "        #implementing gradient clipping\n",
    "        torch.nn.utils.clip_grad_norm_(model.parameters(),2)\n",
    "        \n",
    "        optimizer.step()\n",
    "        \n",
    "        if iteration%100==0:\n",
    "            #we evaluate the test set\n",
    "            model.eval()\n",
    "            gold=np.array([])\n",
    "            preds=np.array([])\n",
    "            \n",
    "            for t_batch in testdata_loader:\n",
    "                t_adjacency_matrix, t_node_features, t_y = t_batch\n",
    "                gold=np.append(gold,t_y.tolist())\n",
    "                t_batch_mask = torch.sum(torch.abs(t_node_features), dim=-1) !=0\n",
    "                t_y_pred = model(t_node_features, t_batch_mask, t_adjacency_matrix, None)\n",
    "                preds=np.append(preds,t_y_pred.tolist())\n",
    "            \n",
    "            test_rmse=np.sqrt(np.mean((preds-gold)**2))\n",
    "            test_r2=np.corrcoef(preds,gold)[0][1]**2\n",
    "            model.train()\n",
    "\n",
    "    #end of 1 epoch -- time to log the stats\n",
    "    \n",
    "    #print(epoch_preds)\n",
    "    #print(epoch_gold)\n",
    "    train_rmse = (np.sqrt(np.mean((epoch_preds-epoch_gold)**2))) \n",
    "    train_r2 = np.corrcoef(epoch_preds,epoch_gold)[0][1]**2\n",
    "    \n",
    "    print(f'----------------------------------')\n",
    "    print(f'Epoch: {epoch}')\n",
    "    print(f'Training RMSE: {train_rmse}')\n",
    "    print(f'Training R2: {train_r2}')\n",
    "    #print(f'Test RMSE: {test_rmse}')\n",
    "    #print(f'Test R2: {test_r2}')"
   ]
  },
  {
   "cell_type": "code",
   "execution_count": 11,
   "id": "329b09e0",
   "metadata": {},
   "outputs": [],
   "source": [
    "torch.save(model.state_dict(),'trained.model')"
   ]
  },
  {
   "cell_type": "code",
   "execution_count": 12,
   "id": "94f29d23",
   "metadata": {},
   "outputs": [
    {
     "name": "stdout",
     "output_type": "stream",
     "text": [
      "Overall Time:  3.1721813678741455\n"
     ]
    }
   ],
   "source": [
    "model.eval()\n",
    "\n",
    "gold=np.array([])\n",
    "preds=np.array([])\n",
    "t0=time.time()\n",
    "train_times=[]\n",
    "\n",
    "for batch in data_loader:\n",
    "    t1=time.time()\n",
    "    adjacency_matrix, node_features, y = batch\n",
    "    tload=time.time()-t1\n",
    "    gold=np.append(gold,y)\n",
    "    batch_mask = torch.sum(torch.abs(node_features), dim=-1) != 0\n",
    "    y_pred = model(node_features, batch_mask, adjacency_matrix, None)\n",
    "    tpred=time.time()-t1\n",
    "    preds=np.append(preds,y_pred.tolist())\n",
    "    \n",
    "    train_times.append((tload,tpred))\n",
    "    \n",
    "ttime=time.time()-t0\n",
    "print('Overall Time: ',ttime)"
   ]
  },
  {
   "cell_type": "code",
   "execution_count": 13,
   "id": "96fb3709",
   "metadata": {},
   "outputs": [
    {
     "data": {
      "image/png": "[encoded data removed]",
      "text/plain": [
       "<Figure size 432x288 with 1 Axes>"
      ]
     },
     "metadata": {
      "needs_background": "light"
     },
     "output_type": "display_data"
    },
    {
     "name": "stdout",
     "output_type": "stream",
     "text": [
      "-3.037956317187048\n",
      "-3.010515123455968\n",
      "Train RMSE: 2.3416218769696253\n",
      "Train R2 : 0.25726559071114014\n"
     ]
    }
   ],
   "source": [
    "r2=np.corrcoef(preds,gold)[0][1]**2\n",
    "rmse=np.sqrt(np.mean((preds-gold)**2))\n",
    "\n",
    "import matplotlib.pyplot as plt\n",
    "\n",
    "plt.scatter(gold,preds)\n",
    "z = np.polyfit(gold, preds, 1)\n",
    "p = np.poly1d(z)\n",
    "plt.plot(gold, p(gold), color='r')\n",
    "plt.xlim([-10,2])\n",
    "plt.ylim([-10,2])\n",
    "plt.ylabel('Predictions')\n",
    "plt.xlabel('Actual')\n",
    "plt.title('%s with Quantum Data'%trainfile[14:])\n",
    "plt.text(-8, -8, r'RMSE=%s'%rmse)\n",
    "plt.text(-8, -9, r'R^2=%s'%r2)\n",
    "plt.savefig('With_QData_%s.png'%trainfile[14:])\n",
    "plt.show()\n",
    "\n",
    "goldavg = np.mean(gold)\n",
    "print(goldavg)\n",
    "predavg = np.mean(preds)\n",
    "print(predavg)\n",
    "print('Train RMSE:',rmse)\n",
    "print('Train R2 :',r2)"
   ]
  },
  {
   "cell_type": "code",
   "execution_count": 14,
   "id": "831966f7",
   "metadata": {},
   "outputs": [
    {
     "name": "stdout",
     "output_type": "stream",
     "text": [
      "Overall Time:  0.963447093963623\n"
     ]
    },
    {
     "data": {
      "image/png": "[encoded data removed]",
      "text/plain": [
       "<Figure size 432x288 with 1 Axes>"
      ]
     },
     "metadata": {
      "needs_background": "light"
     },
     "output_type": "display_data"
    },
    {
     "name": "stdout",
     "output_type": "stream",
     "text": [
      "Test RMSE: 2.2493116985519084\n",
      "Test R2  : 0.27065238377465983\n"
     ]
    }
   ],
   "source": [
    "#evaluate the test_set\n",
    "\n",
    "gold=np.array([])\n",
    "preds=np.array([])\n",
    "t0=time.time()\n",
    "test_times=[]\n",
    "for batch in testdata_loader:\n",
    "    t1=time.time()\n",
    "    adjacency_matrix, node_features, y = batch\n",
    "    tload=time.time()-t1\n",
    "    gold=np.append(gold,y.tolist())\n",
    "    batch_mask = torch.sum(torch.abs(node_features), dim=-1) != 0\n",
    "    y_pred = model(node_features, batch_mask, adjacency_matrix, None)\n",
    "    tpred=time.time()-t1\n",
    "    preds=np.append(preds,y_pred.tolist())\n",
    "\n",
    "\n",
    "    test_times.append((tload,tpred))\n",
    "\n",
    "ttime=time.time()-t0\n",
    "print('Overall Time: ',ttime)\n",
    "\n",
    "r2=np.corrcoef(preds,gold)[0][1]**2\n",
    "rmse=np.sqrt(np.mean((preds-gold)**2))\n",
    "\n",
    "plt.scatter(gold,preds)\n",
    "z = np.polyfit(gold, preds, 1)\n",
    "p = np.poly1d(z)\n",
    "plt.plot(gold, p(gold), color='r')\n",
    "plt.xlim([-10,2])\n",
    "plt.ylim([-10,2])\n",
    "plt.ylabel('Predictions')\n",
    "plt.xlabel('Actual')\n",
    "plt.title('%s with Quantum Data'%testfile[13:])\n",
    "plt.text(-8, -8, r'RMSE=%s'%rmse)\n",
    "plt.text(-8, -9, r'R^2=%s'%r2)\n",
    "plt.savefig('With_QData_%s.png'%testfile[13:])\n",
    "plt.show()\n",
    "average = np.mean(gold)\n",
    "\n",
    "print('Test RMSE:',rmse)\n",
    "print('Test R2  :',r2)"
   ]
  },
  {
   "cell_type": "markdown",
   "id": "4b1e70db",
   "metadata": {
    "scrolled": false
   },
   "source": [
    "Try using Captum to see what is happening in the model"
   ]
  }
 ],
 "metadata": {
  "kernelspec": {
   "display_name": "Python 3 (ipykernel)",
   "language": "python",
   "name": "python3"
  },
  "language_info": {
   "codemirror_mode": {
    "name": "ipython",
    "version": 3
   },
   "file_extension": ".py",
   "mimetype": "text/x-python",
   "name": "python",
   "nbconvert_exporter": "python",
   "pygments_lexer": "ipython3",
   "version": "3.8.13"
  }
 },
 "nbformat": 4,
 "nbformat_minor": 5
}
